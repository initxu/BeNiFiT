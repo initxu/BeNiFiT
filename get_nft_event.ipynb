{
 "cells": [
  {
   "cell_type": "code",
   "execution_count": null,
   "metadata": {},
   "outputs": [],
   "source": [
    "import json\n",
    "import requests\n",
    "import time\n",
    "import os\n",
    "import logging\n",
    "from datetime import datetime"
   ]
  },
  {
   "cell_type": "code",
   "execution_count": null,
   "metadata": {},
   "outputs": [],
   "source": [
    "OPENSEA_API_BASE = \"https://api.opensea.io/api/v2\"\n",
    "OPENSEA_API_KEY = \"\" \n",
    "OPENSEA_API_BASE_V1 = \"https://api.opensea.io/api/v1\" \n",
    "collection_slug=\"doodles-official\" # [pudgypenguins, chimpersnft, doodles-official]\n",
    "chain=\"ethereum\""
   ]
  },
  {
   "cell_type": "code",
   "execution_count": null,
   "metadata": {},
   "outputs": [],
   "source": [
    "get_nft_event_url = \"https://api.opensea.io/api/v2/events/chain/{chain}/contract/{contract_address}/nfts/{identifier}/?event_type=sale&next={next_string}\"\n"
   ]
  },
  {
   "cell_type": "code",
   "execution_count": null,
   "metadata": {},
   "outputs": [],
   "source": [
    "def make_api_request(url, headers=None, params=None):\n",
    "    \"\"\"Make API request with basic rate limiting\"\"\"\n",
    "    max_retries = 3\n",
    "    retry_count = 0\n",
    "    \n",
    "    if headers is None:\n",
    "        headers = {\n",
    "            \"Accept\": \"application/json\",\n",
    "            \"X-API-KEY\": OPENSEA_API_KEY\n",
    "        }\n",
    "    while True:\n",
    "        try:\n",
    "            response = requests.get(url, headers=headers, params=params)\n",
    "            \n",
    "            # Handle rate limiting\n",
    "            if response.status_code == 429:\n",
    "                print(\"Rate limited, waiting 1 second...\")\n",
    "                time.sleep(1)\n",
    "                return make_api_request(url, headers, params)\n",
    "            \n",
    "            # Raise exception for other errors\n",
    "            response.raise_for_status()\n",
    "            retry_count = 0\n",
    "            return response.json()\n",
    "        except Exception as e:\n",
    "            print(f\"Error making request to {url}: {e}\")\n",
    "            retry_count += 1\n",
    "            if retry_count >= max_retries:\n",
    "                print(f\"Max retries reached\")\n",
    "                return None\n",
    "            time.sleep(2 ** retry_count)  # Exponential backoff\n"
   ]
  },
  {
   "cell_type": "code",
   "execution_count": null,
   "metadata": {},
   "outputs": [],
   "source": [
    "def get_nfts_event(chain, contract_address, identifier,next_string=\"\"):\n",
    "    url = get_nft_event_url.format(chain=chain,contract_address=contract_address, identifier=identifier,next_string=next_string)\n",
    "    return make_api_request(url)"
   ]
  },
  {
   "cell_type": "code",
   "execution_count": null,
   "metadata": {},
   "outputs": [],
   "source": [
    "def fetch_all_nft_events(chain, contract_address, identifier):\n",
    "    \"\"\"Fetch all events for an NFT, handling pagination\"\"\"\n",
    "    all_events = []\n",
    "    next_string = \"\"\n",
    "    retry_count = 0\n",
    "    max_retries = 3\n",
    "    \n",
    "    while True:\n",
    "        response = get_nfts_event(chain, contract_address, identifier, next_string=next_string)\n",
    "            \n",
    "        # Add new events to our collection\n",
    "        if 'asset_events' in response:\n",
    "            all_events.extend(response['asset_events'])\n",
    "        \n",
    "        # Check for more pages\n",
    "        if 'next' in response and response['next']:\n",
    "            next_string = response['next']\n",
    "            time.sleep(1)  # Rate limiting\n",
    "            retry_count = 0  # Reset retry counter on success\n",
    "        else:\n",
    "            break\n",
    "    \n",
    "    return all_events"
   ]
  },
  {
   "cell_type": "code",
   "execution_count": null,
   "metadata": {},
   "outputs": [],
   "source": [
    "\n",
    "def requset_log(log_dir):\n",
    "    logging.basicConfig(\n",
    "        level=logging.INFO,\n",
    "        format='%(asctime)s - %(levelname)s - %(message)s',\n",
    "        handlers=[\n",
    "            logging.FileHandler(f\"{log_dir}nft_events_{datetime.now().strftime('%Y%m%d_%H%M%S')}.log\"),\n",
    "            logging.StreamHandler()  # Also prints to console\n",
    "        ]\n",
    "    )"
   ]
  },
  {
   "cell_type": "code",
   "execution_count": null,
   "metadata": {},
   "outputs": [],
   "source": [
    "pass_identifier = -1"
   ]
  },
  {
   "cell_type": "code",
   "execution_count": null,
   "metadata": {},
   "outputs": [],
   "source": [
    "# Get all NFTs in the collection\n",
    "nfts_by_collections_file = f\"./data/{collection_slug}/nfts_by_collection_data_sorted.json\"\n",
    "nfts_event_output_dir= f\"./data/{collection_slug}/sale_events/\"\n",
    "os.makedirs(nfts_event_output_dir, exist_ok=True)\n",
    "requset_log(nfts_event_output_dir)\n",
    "\n",
    "nfts_event_json=[]\n",
    "\n",
    "with open(nfts_by_collections_file, 'r') as f:\n",
    "    nfts_by_collections_json = json.load(f)\n",
    "    for nft in nfts_by_collections_json:\n",
    "        \n",
    "        identifier= nft['identifier']\n",
    "        if int(identifier) <= pass_identifier:\n",
    "            continue\n",
    "        contract_address= nft['contract']\n",
    "        nft_event_json_name= f\"{collection_slug}_{identifier}.json\"\n",
    "        \n",
    "        all_nft_events = fetch_all_nft_events(chain, contract_address, identifier)\n",
    "        # get_nfts_event_response = get_nfts_event(chain, contaract_address, identifier)\n",
    "        # nft_events= get_nfts_event_response['asset_events']\n",
    "        # nft_next= get_nfts_event_response['next']\n",
    "        event_data = {\n",
    "                \"metadata\": {\n",
    "                    \"collection_slug\": collection_slug,\n",
    "                    \"contract\": contract_address,\n",
    "                    \"identifier\": identifier,\n",
    "                    \"total_events\": len(all_nft_events)\n",
    "                },\n",
    "                \"events\": all_nft_events\n",
    "            }\n",
    "            \n",
    "            # Save to file\n",
    "        with open(nfts_event_output_dir+nft_event_json_name, 'w') as outfile:\n",
    "            json.dump(event_data, outfile, indent=2)\n",
    "        \n",
    "        logging.info(f\"Saved {len(all_nft_events)} events for NFT {identifier}\")\n",
    "        "
   ]
  }
 ],
 "metadata": {
  "kernelspec": {
   "display_name": "llmtool",
   "language": "python",
   "name": "python3"
  },
  "language_info": {
   "codemirror_mode": {
    "name": "ipython",
    "version": 3
   },
   "file_extension": ".py",
   "mimetype": "text/x-python",
   "name": "python",
   "nbconvert_exporter": "python",
   "pygments_lexer": "ipython3",
   "version": "3.8.19"
  }
 },
 "nbformat": 4,
 "nbformat_minor": 2
}
