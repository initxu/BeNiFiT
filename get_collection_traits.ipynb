{
 "cells": [
  {
   "cell_type": "code",
   "execution_count": 2,
   "metadata": {},
   "outputs": [],
   "source": [
    "import json\n",
    "import os\n",
    "import requests\n",
    "import time\n"
   ]
  },
  {
   "cell_type": "code",
   "execution_count": null,
   "metadata": {},
   "outputs": [],
   "source": [
    "OPENSEA_API_BASE = \"https://api.opensea.io/api/v2\"\n",
    "OPENSEA_API_KEY = \"\" \n",
    "OPENSEA_API_BASE_V1 = \"https://api.opensea.io/api/v1\" \n",
    "collection_slug=\"doodles-official\" # pudgypenguins, chimpersnft, doodles-official\n",
    "chain=\"ethereum\""
   ]
  },
  {
   "cell_type": "code",
   "execution_count": 4,
   "metadata": {},
   "outputs": [],
   "source": [
    "# url = \"https://api.opensea.io/api/v2/collections/pudgypenguins\"\n",
    "\n",
    "get_collection_url = \"https://api.opensea.io/api/v2/collections/{collection_slug}\"\n",
    "get_collection_traits_url = \"https://api.opensea.io/api/v2/traits/{collection_slug}\"\n",
    "get_collection_stats_url = \"https://api.opensea.io/api/v2/collections/{collection_slug}/stats\"\n"
   ]
  },
  {
   "cell_type": "code",
   "execution_count": 5,
   "metadata": {},
   "outputs": [],
   "source": [
    "def make_api_request(url, headers=None, params=None):\n",
    "    \"\"\"Make API request with basic rate limiting\"\"\"\n",
    "    if headers is None:\n",
    "        headers = {\n",
    "            \"Accept\": \"application/json\",\n",
    "            \"X-API-KEY\": OPENSEA_API_KEY\n",
    "        }\n",
    "    \n",
    "    try:\n",
    "        response = requests.get(url, headers=headers, params=params)\n",
    "        \n",
    "        # Handle rate limiting\n",
    "        if response.status_code == 429:\n",
    "            print(\"Rate limited, waiting 1 second...\")\n",
    "            time.sleep(1)\n",
    "            return make_api_request(url, headers, params)\n",
    "        \n",
    "        # Raise exception for other errors\n",
    "        response.raise_for_status()\n",
    "        \n",
    "        return response.json()\n",
    "    except Exception as e:\n",
    "        print(f\"Error making request to {url}: {e}\")\n",
    "        return None"
   ]
  },
  {
   "cell_type": "code",
   "execution_count": 6,
   "metadata": {},
   "outputs": [],
   "source": [
    "def get_collection(collection_slug):\n",
    "    url = get_collection_url.format(collection_slug=collection_slug)\n",
    "    return make_api_request(url)\n",
    "\n",
    "def get_collection_traits(collection_slug):\n",
    "    url = get_collection_traits_url.format(collection_slug=collection_slug)\n",
    "    return make_api_request(url)\n",
    "\n",
    "def get_collection_stats(collection_slug):\n",
    "    url = get_collection_stats_url.format(collection_slug=collection_slug)\n",
    "    return make_api_request(url)"
   ]
  },
  {
   "cell_type": "code",
   "execution_count": 7,
   "metadata": {},
   "outputs": [],
   "source": [
    "'''\n",
    "Get Collection Data\n",
    "'''\n",
    "get_collection_output_file = f\"./data/{collection_slug}/collection_data.json\"\n",
    "collection_data=get_collection(collection_slug)\n",
    "with open(get_collection_output_file, 'w') as f:\n",
    "            json.dump(collection_data, f, indent=4)\n"
   ]
  },
  {
   "cell_type": "code",
   "execution_count": 8,
   "metadata": {},
   "outputs": [],
   "source": [
    "'''\n",
    "Get Collection Traits Data\n",
    "'''\n",
    "get_collection_traits_output_file = f\"./data/{collection_slug}/collection_traits_data.json\"\n",
    "collection_traits_data=get_collection_traits(collection_slug)\n",
    "with open(get_collection_traits_output_file, 'w') as f:\n",
    "            json.dump(collection_traits_data, f, indent=4)\n"
   ]
  },
  {
   "cell_type": "code",
   "execution_count": 9,
   "metadata": {},
   "outputs": [],
   "source": [
    "\"\"\"\n",
    "Get Collection Stats Data\n",
    "\"\"\"\n",
    "get_collection_stats_output_file = f\"./data/{collection_slug}/collection_status_data.json\"\n",
    "collection_stats_data=get_collection_stats(collection_slug)\n",
    "with open(get_collection_stats_output_file, 'w') as f:\n",
    "            json.dump(collection_stats_data, f, indent=4)"
   ]
  },
  {
   "cell_type": "code",
   "execution_count": null,
   "metadata": {},
   "outputs": [],
   "source": []
  }
 ],
 "metadata": {
  "kernelspec": {
   "display_name": "llmtool",
   "language": "python",
   "name": "python3"
  },
  "language_info": {
   "codemirror_mode": {
    "name": "ipython",
    "version": 3
   },
   "file_extension": ".py",
   "mimetype": "text/x-python",
   "name": "python",
   "nbconvert_exporter": "python",
   "pygments_lexer": "ipython3",
   "version": "3.8.19"
  }
 },
 "nbformat": 4,
 "nbformat_minor": 2
}
