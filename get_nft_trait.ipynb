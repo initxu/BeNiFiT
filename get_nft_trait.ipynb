{
 "cells": [
  {
   "cell_type": "code",
   "execution_count": null,
   "metadata": {},
   "outputs": [],
   "source": [
    "import json\n",
    "import requests\n",
    "import time\n",
    "import os"
   ]
  },
  {
   "cell_type": "code",
   "execution_count": null,
   "metadata": {},
   "outputs": [],
   "source": [
    "OPENSEA_API_BASE = \"https://api.opensea.io/api/v2\"\n",
    "OPENSEA_API_KEY = \"\" \n",
    "OPENSEA_API_BASE_V1 = \"https://api.opensea.io/api/v1\" \n",
    "collection_slug=\"doodles-official\" # pudgypenguins, chimpersnft,doodles-official\n",
    "chain=\"ethereum\""
   ]
  },
  {
   "cell_type": "code",
   "execution_count": null,
   "metadata": {},
   "outputs": [],
   "source": [
    "get_nft_trait_url = \"https://api.opensea.io/api/v2/chain/{chain}/contract/{contract_address}/nfts/{identifier}\"\n"
   ]
  },
  {
   "cell_type": "code",
   "execution_count": null,
   "metadata": {},
   "outputs": [],
   "source": [
    "def make_api_request(url, headers=None, params=None):\n",
    "    \"\"\"Make API request with basic rate limiting\"\"\"\n",
    "    if headers is None:\n",
    "        headers = {\n",
    "            \"Accept\": \"application/json\",\n",
    "            \"X-API-KEY\": OPENSEA_API_KEY\n",
    "        }\n",
    "    \n",
    "    try:\n",
    "        response = requests.get(url, headers=headers, params=params)\n",
    "        \n",
    "        # Handle rate limiting\n",
    "        if response.status_code == 429:\n",
    "            print(\"Rate limited, waiting 1 second...\")\n",
    "            time.sleep(1)\n",
    "            return make_api_request(url, headers, params)\n",
    "        \n",
    "        # Raise exception for other errors\n",
    "        response.raise_for_status()\n",
    "        \n",
    "        return response.json()\n",
    "    except Exception as e:\n",
    "        print(f\"Error making request to {url}: {e}\")\n",
    "        return None"
   ]
  },
  {
   "cell_type": "code",
   "execution_count": null,
   "metadata": {},
   "outputs": [],
   "source": [
    "def get_nfts_traits(chain, contract_address, identifier):\n",
    "    \"\"\"\n",
    "    Get NFT\n",
    "    Ouptut:\n",
    "        {\n",
    "  \"nft\": {\n",
    "    \"identifier\": \"string\",\n",
    "    \"collection\": \"string\",\n",
    "    \"contract\": \"string\",\n",
    "    \"token_standard\": \"string\",\n",
    "    \"name\": \"string\",\n",
    "    \"description\": \"string\",\n",
    "    \"image_url\": \"\",\n",
    "    \"display_image_url\": \"\",\n",
    "    \"display_animation_url\": \"\",\n",
    "    \"metadata_url\": \"\",\n",
    "    \"opensea_url\": \"\",\n",
    "    \"updated_at\": \"string\",\n",
    "    \"is_disabled\": true,\n",
    "    \"is_nsfw\": true,\n",
    "    \"animation_url\": \"\",\n",
    "    \"is_suspicious\": true,\n",
    "    \"creator\": \"string\",\n",
    "    \"traits\": [\n",
    "      {\n",
    "        \"trait_type\": \"string\",\n",
    "        \"display_type\": \"number\",\n",
    "        \"max_value\": \"string\",\n",
    "        \"value\": 0\n",
    "      }\n",
    "    ],\n",
    "    \"owners\": [\n",
    "      {\n",
    "        \"address\": \"string\",\n",
    "        \"quantity\": 0\n",
    "      }\n",
    "    ],\n",
    "    \"rarity\": {\n",
    "      \"strategy_version\": \"string\",\n",
    "      \"rank\": 0,\n",
    "      \"score\": 0,\n",
    "      \"calculated_at\": \"\",\n",
    "      \"max_rank\": 0,\n",
    "      \"total_supply\": 0,\n",
    "      \"ranking_features\": {\n",
    "        \"unique_attribute_count\": 0\n",
    "      }\n",
    "    }\n",
    "  }\n",
    "}\n",
    "    \"\"\"\n",
    "    url = get_nft_trait_url.format(chain=chain,contract_address=contract_address, identifier=identifier)\n",
    "    return make_api_request(url)"
   ]
  },
  {
   "cell_type": "code",
   "execution_count": null,
   "metadata": {},
   "outputs": [],
   "source": [
    "# Get all NFTs in the collection\n",
    "nfts_by_collections_file = f\"./data/{collection_slug}/nfts_by_collection_data_sorted.json\"\n",
    "nfts_traits_output_file = f\"./data/{collection_slug}/nfts_traits_data_sorted.json\"\n",
    "\n",
    "nfts_traits_json=[]\n",
    "\n",
    "with open(nfts_by_collections_file, 'r') as f:\n",
    "    nfts_by_collections_json = json.load(f)\n",
    "    for nft in nfts_by_collections_json:\n",
    "        contract_address = nft['contract']\n",
    "        identifier = nft['identifier']\n",
    "        print(f\"Getting traits for {contract_address} - {identifier}\")\n",
    "        nft_traits_dic = get_nfts_traits(chain, contract_address, identifier)\n",
    "        if nft_traits_dic:\n",
    "            nfts_traits_json.append(nft_traits_dic)\n",
    "        with open(nfts_traits_output_file, 'w') as f:\n",
    "            json.dump(nfts_traits_json, f, indent=4)\n",
    "\n"
   ]
  },
  {
   "cell_type": "markdown",
   "metadata": {},
   "source": [
    "## Get Images"
   ]
  },
  {
   "cell_type": "code",
   "execution_count": null,
   "metadata": {},
   "outputs": [],
   "source": [
    "# get image for each nft\n",
    "\n",
    "from email.mime import image\n",
    "\n",
    "\n",
    "nfts_by_collections_file = f\"./data/{collection_slug}/nfts_by_collection_data_sorted.json\"\n",
    "nfts_image_output_dir= f\"./data/{collection_slug}/images/\"\n",
    "os.makedirs(nfts_image_output_dir, exist_ok=True)\n",
    "\n",
    "with open(nfts_by_collections_file, 'r') as f:\n",
    "    nfts_by_collections_json = json.load(f)\n",
    "    for nft in nfts_by_collections_json:\n",
    "        identifier= nft['identifier']\n",
    "        image_name= f'{collection_slug}_{identifier}' + \".jpg\"\n",
    "        image_url = nft['image_url']\n",
    "        try:\n",
    "            # Get the image data\n",
    "            response = requests.get(image_url, stream=True, timeout=10)\n",
    "            response.raise_for_status()  # Raise an error for bad status codes\n",
    "            \n",
    "            # Save the image\n",
    "            image_path = os.path.join(nfts_image_output_dir, image_name)\n",
    "            with open(image_path, 'wb') as img_file:\n",
    "                for chunk in response.iter_content(1024):\n",
    "                    img_file.write(chunk)\n",
    "            \n",
    "            print(f\"Downloaded image for NFT {identifier}\")\n",
    "            \n",
    "        except requests.exceptions.RequestException as e:\n",
    "            print(f\"Failed to download image for NFT {identifier}: {e}\")\n",
    "        except Exception as e:\n",
    "            print(f\"Error processing NFT {identifier}: {e}\")\n",
    "        "
   ]
  }
 ],
 "metadata": {
  "kernelspec": {
   "display_name": "llmtool",
   "language": "python",
   "name": "python3"
  },
  "language_info": {
   "codemirror_mode": {
    "name": "ipython",
    "version": 3
   },
   "file_extension": ".py",
   "mimetype": "text/x-python",
   "name": "python",
   "nbconvert_exporter": "python",
   "pygments_lexer": "ipython3",
   "version": "3.8.19"
  }
 },
 "nbformat": 4,
 "nbformat_minor": 2
}
