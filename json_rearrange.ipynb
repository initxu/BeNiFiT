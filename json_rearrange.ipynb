{
 "cells": [
  {
   "cell_type": "code",
   "execution_count": 12,
   "metadata": {},
   "outputs": [],
   "source": [
    "import json"
   ]
  },
  {
   "cell_type": "code",
   "execution_count": 15,
   "metadata": {},
   "outputs": [],
   "source": [
    "collection_slug='doodles-official'"
   ]
  },
  {
   "cell_type": "code",
   "execution_count": 16,
   "metadata": {},
   "outputs": [],
   "source": [
    "nfts_json_pth=f'./data/{collection_slug}/nfts_by_collection_data.json'\n",
    "sorted_nfts_json_pth = f'./data/{collection_slug}/nfts_by_collection_data_sorted.json'\n",
    "with open(nfts_json_pth) as f:\n",
    "    nfts_json = json.load(f)\n",
    "# Sort the NFTs by identifier\n",
    "nfts_json.sort(key=lambda x: int(x['identifier']))\n",
    "\n",
    "# save the sorted NFTs to a new JSON file\n",
    "\n",
    "with open(sorted_nfts_json_pth, 'w') as f:\n",
    "    json.dump(nfts_json, f, indent=4)\n"
   ]
  }
 ],
 "metadata": {
  "kernelspec": {
   "display_name": "llmtool",
   "language": "python",
   "name": "python3"
  },
  "language_info": {
   "codemirror_mode": {
    "name": "ipython",
    "version": 3
   },
   "file_extension": ".py",
   "mimetype": "text/x-python",
   "name": "python",
   "nbconvert_exporter": "python",
   "pygments_lexer": "ipython3",
   "version": "3.8.19"
  }
 },
 "nbformat": 4,
 "nbformat_minor": 2
}
