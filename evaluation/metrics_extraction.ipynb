{
 "cells": [
  {
   "cell_type": "code",
   "execution_count": 195,
   "metadata": {},
   "outputs": [],
   "source": [
    "import json\n",
    "import pandas as pd\n",
    "import re\n",
    "import csv"
   ]
  },
  {
   "cell_type": "code",
   "execution_count": 730,
   "metadata": {},
   "outputs": [],
   "source": [
    "collection_slug = 'doodles-official' #[pudgypenguins,chimpersnft,doodles-official]\n",
    "method= 'ours_icl'\n",
    "exp='ours_icl_llama3.1-8b_historical_all'\n",
    "\n",
    "llmjuder_path = f'../results/metrics/{collection_slug}/{method}/{exp}.json'\n",
    "scores_path= f'../results/metrics/{collection_slug}/{method}/{exp}.csv'\n",
    "with open(llmjuder_path, 'r') as f:\n",
    "    llmjuder_results = json.load(f)\n"
   ]
  },
  {
   "cell_type": "code",
   "execution_count": 731,
   "metadata": {},
   "outputs": [],
   "source": [
    "def extract_metrics(response):\n",
    "    metrics = {}\n",
    "    lines = response.split('\\n')\n",
    "    for line in lines:\n",
    "        if ':' in line and not line.startswith('Evaluation Explanation'):\n",
    "            key, value = line.split(':', 1)\n",
    "            metrics[key.strip()] = value.strip()\n",
    "    return metrics\n",
    "\n",
    "\n",
    "# Define the metrics we want to extract (in desired output order)\n",
    "target_metrics = [\n",
    "    'Prediction Consistency',\n",
    "    'Hallucination Persistence',\n",
    "    'Market Interpretation Accuracy',\n",
    "    'User-Friendliness',\n",
    "    'Knowledge Utilization'\n",
    "]\n",
    "\n"
   ]
  },
  {
   "cell_type": "code",
   "execution_count": 733,
   "metadata": {},
   "outputs": [],
   "source": [
    "csv_data = []\n",
    "headers = ['id', 'Prediction Consistency', 'Hallucination Persistence', \n",
    "           'Market Interpretation Accuracy', 'User-Friendliness', 'Knowledge Utilization']\n",
    "\n",
    "for key in llmjuder_results.keys():\n",
    "    identifier=int(key.split('-')[1])\n",
    "    result_scores=llmjuder_results[key]['response']\n",
    "    metrics = extract_metrics(result_scores)\n",
    "    values = list(metrics.values())\n",
    "    row = {\n",
    "        'id': identifier,\n",
    "        'Prediction Consistency': values[0],\n",
    "        'Hallucination Persistence':  values[1],\n",
    "        'Market Interpretation Accuracy':  values[2],\n",
    "        'User-Friendliness':  values[3],\n",
    "        'Knowledge Utilization':  values[4]\n",
    "    }\n",
    "    csv_data.append(row)\n",
    "\n",
    "with open(scores_path, 'w', newline='') as csvfile:\n",
    "    writer = csv.DictWriter(csvfile, fieldnames=headers)\n",
    "    writer.writeheader()\n",
    "    writer.writerows(csv_data) "
   ]
  },
  {
   "cell_type": "code",
   "execution_count": 735,
   "metadata": {},
   "outputs": [
    {
     "data": {
      "text/plain": [
       "{'model': 'gpt-4o',\n",
       " 'prompt': 'You are a professional, impartial, and strict scorer evaluating an LLM\\'s NFT trading analysis. The LLM was instructed to predict trading performance of the target NFT for April 2025 based on its historical trading data. \\nEvaluate the LLM\\'s performance based on the following five key aspects, scoring each from 0-100 (higher is better), and provide an explanation for your rating:\\n1. Prediction Consistency: Measure how closely the LLM\\'s price predictions, trend forecasts, and valuation estimates align with the target NFT\\'s actual trading outcomes in April 2025.\\n2. Hallucination Persistence: Evaluate whether the LLM introduces fabricated data points, describes non-existent trends, or makes claims that cannot be verified or are unsupported by the provided historical trading data.\\n3. Market Interpretation: Assess how well the LLM identifies and interprets market trends, trading patterns, and price changes from the trading data of the NFT and the collection.\\n4. User-Friendliness: Judge how effectively the LLM communicates complex analysis in clear, accessible language with evidence-based suggestions and actionable insights for potential investors.\\n5. Kowledge Utilization: Judge to what extent the LLM leverages domain knowledge about NFTs and the specific historical trading data of the target NFT.\\n\\nOutput Format:\\nPrediction Consistency: [Prediction Consistency Score]\\nHallucination Detection: [Hallucination Detection Score]\\nMarket Interpretation Accuracy: [Market Interpretation Accuracy Score]\\nUser-Friendliness: [User-Friendliness Score]\\nKowledge Utilization: [Kowledge Utilization Score]\\nEvaluation Explanation: [Explanation]\\n\\nHistorical Trading data:\\n- Target NFT\\'s historical Trading data from 2021-07-22 to 2025-03-31: - 2021-10-18 02:37: 1.18 ETH - 2021-11-11 18:19: 1.3 ETH - 2022-05-12 09:11: 15.99 WETH - 2024-12-11 19:48: 3.0 ETH - 2024-12-12 14:55: 4.08 WETH - 2024-12-12 15:37: 4.06 WETH - 2024-12-12 20:03: 4.1399079 ETH - 2025-02-26 18:36: 2.98 WETH - 2025-02-26 19:26: 3.09 WETH - 2025-02-26 20:43: 3.18999998 ETH - 2025-03-11 17:03: 2.8388 ETH \\nSummary: 11 sales, avg: 4.1681 ETH, min: 1.1800 ETH, max: 15.9900 ETH\\n\\n\\n\\nGround Truth Data:\\n- Target NFT\\'s actual trading outcome in April 2025: - 2025-04-08 18:26: 2.68 WETH - 2025-04-08 18:26: 2.73 WETH - 2025-04-09 17:34: 2.682105400000024 ETH \\nSummary: 3 sales, avg: 2.6974 ETH, min: 2.6800 ETH, max: 2.7300 ETH\\n\\n\\n- Target NFT\\'s rarity information: the rarity rank of the NFT in the collection is 3433\\n- The description of the collectiion to which the NFT belongs: A community-driven collectibles project featuring art by Burnt Toast. Doodles come in a joyful range of colors, traits and sizes with a collection size of 10,000. Each Doodle allows its owner to vote for experiences and activations paid for by the Doodles Community Treasury. Burnt Toast is the working alias for Scott Martin, a Canadian–based illustrator, designer, animator and muralist.\\n- The historcial trading information of the collection: To provide a comprehensive analysis of the Doodles NFT collection\\'s historical trading data, we need to examine the market dynamics, trend analysis, and risk metrics. Let\\'s break down each aspect:\\n\\n### 1. Market Dynamics\\n\\n#### Relationship between Price and Volume\\n- **Correlation**: Generally, there is a positive correlation between trading volume and price. Higher volumes often accompany price increases, suggesting demand-driven price spikes. However, there are instances where volume spikes with little to no price change, indicating either a market consolidation phase or speculative trading activity.\\n- **Volume Spikes**: Notable volume spikes, particularly when floor prices experience significant changes, suggest events or announcements driving interest. For instance, December 2021 saw high volumes with a corresponding increase in floor prices, indicating heightened interest and demand.\\n\\n#### Support and Resistance Levels\\n- **Support Levels**: The floor price has shown significant support around the 1-2 ETH range, especially during market downturns. These levels have consistently acted as a floor, where buying interest increased.\\n- **Resistance Levels**: The data shows resistance around the 10-15 ETH range, where prices faced difficulty breaking through and holding, suggesting this is a level where sellers are more willing to offload their assets.\\n\\n### 2. Trend Analysis\\n\\n#### Short-term Trends\\n- **Fluctuations**: Short-term trends indicate significant volatility, with frequent price spikes and drops. These could be attributed to market sentiment changes, announcements, or broader cryptocurrency market movements.\\n- **Seasonal Patterns**: Some seasonal patterns are evident, with increased trading activity and price fluctuations towards the end of the year (e.g., December 2021 and December 2024). This could be due to holiday-related market dynamics or specific community events.\\n\\n#### Long-term Trends\\n- **Price Evolution**: From 2021 to late 2022, there\\'s a clear upward trajectory, peaking in early 2022, followed by a stabilization and then a downward trend through 2023 and early 2024. This mirrors broader NFT market trends, where initial hype leads to price peaks, followed by corrections.\\n- **Stabilization Phases**: Several stabilization phases are observed, where prices hover around certain levels before breaking out. For instance, mid-2023 shows prolonged periods of low volatility, indicating market consolidation.\\n\\n### 3. Risk Metrics\\n\\n#### Volatility Measurement\\n- **High Volatility Periods**: The highest volatility was observed in early 2022 and late 2024, correlating with significant price changes. This period likely involved speculation and rapid market sentiment shifts.\\n- **Low Volatility Periods**: Periods with lower volatility, such as mid-2023, suggest market stability or disinterest, often preceding significant market moves.\\n\\n### Summary of Critical Insights\\n\\n- **Market Behavior**: The Doodles collection exhibits typical NFT market behaviors, including high volatility, rapid price changes, and volume spikes around significant events.\\n- **Support and Resistance**: Identifying key support and resistance levels can help traders make informed decisions. The 1-2 ETH range serves as a critical support level, while 10-15 ETH acts as a resistance barrier.\\n- **Investment Implications**: Investors should be mindful of the collection\\'s volatility and the broader market trends, using support and resistance levels for strategic entry and exit points.\\n- **Long-term Viability**: While the collection has experienced significant price fluctuations, its ability to maintain interest and volume suggests a resilient community and potential for long-term value, especially if market conditions improve or the project introduces new value propositions.\\n\\nThis analysis provides a foundation for understanding the Doodles NFT market dynamics and can guide future investment strategies.\\n\\nNow, let\\'s think step by step and generate the score.\\nLLM Analysis and Predictions: **NFT Analysis Report for April 2025**\\n\\n**Introduction**\\n\\nBased on the historical trading data and contextual market information provided, this analysis aims to predict the trading performance of the target NFT in April 2025, considering the NFT\\'s rarity, collection trends, and broader market behavior.\\n\\n**Step 1: Historical Trading Data Analysis**\\n\\nThe historical trading data for the target NFT from 2021-07-22 to 2025-03-31 reveals the following trends:\\n\\n- **Price Movement**: The NFT\\'s price has fluctuated significantly, with a peak of 4.14 ETH in December 2024 and a low of 1.18 ETH in October 2021.\\n- **Volume**: Trading volume has also been volatile, with notable spikes in December 2021 and December 2024, indicating heightened interest and demand.\\n- **Volatility**: The NFT has experienced periods of high volatility, particularly in early 2022 and late 2024, and low volatility in mid-2023.\\n\\n**Step 2: Rarity Information and Collection Description**\\n\\nThe target NFT has a rarity rank of 3433 in the collection. The Doodles NFT collection, created by Burnt Toast, features a community-driven collectibles project with art by Burnt Toast. Each Doodle allows its owner to vote for experiences and activations paid for by the Doodles Community Treasury.\\n\\n**Step 3: Broader Market Behavior Analysis**\\n\\nThe historical trading information of the Doodles NFT collection reveals:\\n\\n- **Market Dynamics**: A positive correlation between trading volume and price, with higher volumes often accompanying price increases.\\n- **Support and Resistance Levels**: The 1-2 ETH range serves as a critical support level, while 10-15 ETH acts as a resistance barrier.\\n- **Trend Analysis**: Short-term trends indicate significant volatility, with frequent price spikes and drops. Long-term trends show a clear upward trajectory from 2021 to late 2022, followed by a stabilization and downward trend through 2023 and early 2024.\\n\\n**Step 4: Integration of Insights**\\n\\nConsidering the historical trading data, rarity information, and broader market behavior, we can make the following predictions for April 2025:\\n\\n- **Forecasted Price Range**: Based on the historical trends and support/resistance levels, we forecast the NFT\\'s price to range between 2.5 ETH and 4.0 ETH in April 2025.\\n- **Probable Trading Volume**: With the collection\\'s history of volume spikes around significant events, we expect a moderate to high trading volume in April 2025, potentially driven by community events or announcements.\\n- **Key Influencing Factors**: Market sentiment, collection trends, and the NFT\\'s rarity will be crucial in determining its value and trading performance.\\n- **Risk Assessment**: The NFT\\'s high volatility and potential for price fluctuations make it a high-risk investment. Investors should be cautious and consider diversifying their portfolio.\\n- **Investment Recommendation**: Based on the analysis, we recommend a \"hold\" strategy for investors who are willing to ride out the volatility and potential price fluctuations. However, for those seeking a more conservative approach, a \"sell\" recommendation is advised, considering the high risk and potential for losses.\\n\\n**Conclusion**\\n\\nThis analysis provides a comprehensive understanding of the target NFT\\'s trading performance and potential in April 2025. While the NFT\\'s rarity and collection trends suggest potential for long-term value, the high volatility and market risks make it essential to approach with caution. Investors should carefully consider their risk tolerance and investment goals before making a decision.',\n",
       " 'response': \"Prediction Consistency: 75\\nHallucination Detection: 85\\nMarket Interpretation Accuracy: 80\\nUser-Friendliness: 90\\nKnowledge Utilization: 85\\n\\nEvaluation Explanation:\\n\\n1. **Prediction Consistency (75):** The LLM's forecasted price range of 2.5 ETH to 4.0 ETH for April 2025 is reasonably close to the actual average price of 2.6974 ETH. However, the prediction could have been more precise, considering the actual trading outcomes were slightly lower than the forecasted range. The LLM's trend analysis aligns with the historical data, but the forecasted trading volume and influencing factors were not directly verifiable against the actual data.\\n\\n2. **Hallucination Detection (85):** The LLM did not introduce any fabricated data points or unsupported claims. It relied on the provided historical data and market dynamics to make predictions. The analysis was grounded in the historical trading data and collection information, showing minimal signs of hallucination.\\n\\n3. **Market Interpretation Accuracy (80):** The LLM effectively identified key market dynamics, such as support and resistance levels, and interpreted the historical trading patterns of the NFT and its collection. However, the analysis could have been more detailed in correlating specific historical events with the predicted outcomes for April 2025.\\n\\n4. **User-Friendliness (90):** The LLM communicated complex analysis in clear and accessible language, providing evidence-based suggestions and actionable insights for potential investors. The report was structured logically, making it easy for users to follow and understand the analysis and recommendations.\\n\\n5. **Knowledge Utilization (85):** The LLM demonstrated a strong understanding of NFTs and effectively leveraged the historical trading data of the target NFT. It incorporated domain knowledge about market dynamics, rarity, and collection trends to inform its predictions and recommendations. However, there was room for deeper integration of specific historical events and their impact on future predictions.\",\n",
       " 'tokens': 2725,\n",
       " 'response_time': 5.529583215713501,\n",
       " 'timestamp': '2025-05-11T14:13:24.620996'}"
      ]
     },
     "execution_count": 735,
     "metadata": {},
     "output_type": "execute_result"
    }
   ],
   "source": [
    "llmjuder_results[key]"
   ]
  },
  {
   "cell_type": "code",
   "execution_count": 737,
   "metadata": {},
   "outputs": [
    {
     "name": "stdout",
     "output_type": "stream",
     "text": [
      "51.967213114754095 67.54098360655738 67.36065573770492 76.40983606557377 70.54098360655738\n"
     ]
    }
   ],
   "source": [
    "metrics_df = pd.read_csv(scores_path)\n",
    "# print(metrics_df['Prediction Consistency'].mean())\n",
    "# print(metrics_df['Hallucination Persistence'].mean())\n",
    "# print(metrics_df['Market Interpretation Accuracy'].mean())\n",
    "# print(metrics_df['User-Friendliness'].mean())\n",
    "# print(metrics_df['Knowledge Utilization'].mean())\n",
    "\n",
    "print(metrics_df['Prediction Consistency'].mean(), \n",
    "      metrics_df['Hallucination Persistence'].mean(), \n",
    "      metrics_df['Market Interpretation Accuracy'].mean(), \n",
    "      metrics_df['User-Friendliness'].mean(), \n",
    "      metrics_df['Knowledge Utilization'].mean())"
   ]
  }
 ],
 "metadata": {
  "kernelspec": {
   "display_name": "llmtool",
   "language": "python",
   "name": "python3"
  },
  "language_info": {
   "codemirror_mode": {
    "name": "ipython",
    "version": 3
   },
   "file_extension": ".py",
   "mimetype": "text/x-python",
   "name": "python",
   "nbconvert_exporter": "python",
   "pygments_lexer": "ipython3",
   "version": "3.8.19"
  }
 },
 "nbformat": 4,
 "nbformat_minor": 2
}
