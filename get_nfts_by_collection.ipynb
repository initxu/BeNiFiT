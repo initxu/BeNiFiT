{
 "cells": [
  {
   "cell_type": "code",
   "execution_count": 8,
   "metadata": {},
   "outputs": [],
   "source": [
    "import json\n",
    "import requests\n",
    "import time\n",
    "import os"
   ]
  },
  {
   "cell_type": "code",
   "execution_count": null,
   "metadata": {},
   "outputs": [],
   "source": [
    "OPENSEA_API_BASE = \"https://api.opensea.io/api/v2\"\n",
    "OPENSEA_API_KEY = \"\" \n",
    "OPENSEA_API_BASE_V1 = \"https://api.opensea.io/api/v1\" \n",
    "collection_slug=\"doodles-official\""
   ]
  },
  {
   "cell_type": "code",
   "execution_count": 10,
   "metadata": {},
   "outputs": [],
   "source": [
    "get_nfts_by_collection_url = \"https://api.opensea.io/api/v2/collection/{collection_slug}/nfts?limit={limit}&next={next_string}\"\n"
   ]
  },
  {
   "cell_type": "code",
   "execution_count": 11,
   "metadata": {},
   "outputs": [],
   "source": [
    "def make_api_request(url, headers=None, params=None):\n",
    "    \"\"\"Make API request with basic rate limiting\"\"\"\n",
    "    if headers is None:\n",
    "        headers = {\n",
    "            \"Accept\": \"application/json\",\n",
    "            \"X-API-KEY\": OPENSEA_API_KEY\n",
    "        }\n",
    "    \n",
    "    try:\n",
    "        response = requests.get(url, headers=headers, params=params)\n",
    "        \n",
    "        # Handle rate limiting\n",
    "        if response.status_code == 429:\n",
    "            print(\"Rate limited, waiting 1 second...\")\n",
    "            time.sleep(1)\n",
    "            return make_api_request(url, headers, params)\n",
    "        \n",
    "        # Raise exception for other errors\n",
    "        response.raise_for_status()\n",
    "        \n",
    "        return response.json()\n",
    "    except Exception as e:\n",
    "        print(f\"Error making request to {url}: {e}\")\n",
    "        return None"
   ]
  },
  {
   "cell_type": "code",
   "execution_count": 12,
   "metadata": {},
   "outputs": [],
   "source": [
    "def get_nfts_by_collection(collection_slug, limit=200, next_string=\"\"):\n",
    "    \"\"\"\n",
    "    Get NFTs by collection slug\n",
    "    Ouptut:\n",
    "        {\n",
    "    \"nfts\": [\n",
    "        {\n",
    "        \"identifier\": \"string\",\n",
    "        \"collection\": \"string\",\n",
    "        \"contract\": \"string\",\n",
    "        \"token_standard\": \"string\",\n",
    "        \"name\": \"string\",\n",
    "        \"description\": \"string\",\n",
    "        \"image_url\": \"\",\n",
    "        \"display_image_url\": \"\",\n",
    "        \"display_animation_url\": \"\",\n",
    "        \"metadata_url\": \"\",\n",
    "        \"opensea_url\": \"\",\n",
    "        \"updated_at\": \"string\",\n",
    "        \"is_disabled\": true,\n",
    "        \"is_nsfw\": true\n",
    "        }\n",
    "    ],\n",
    "    \"next\": \"string\"\n",
    "    }\n",
    "    \"\"\"\n",
    "    url = get_nfts_by_collection_url.format(collection_slug=collection_slug,limit=limit, next_string=next_string)\n",
    "    return make_api_request(url)"
   ]
  },
  {
   "cell_type": "code",
   "execution_count": 13,
   "metadata": {},
   "outputs": [],
   "source": [
    "# Get all NFTs in the collection\n",
    "os.makedirs(f\"./data/{collection_slug}\", exist_ok=True)\n",
    "nfts_output_file = f\"./data/{collection_slug}/nfts_by_collection_data.json\"\n",
    "raw_output_file = f\"./data/{collection_slug}/raw_response_data.json\"\n",
    "\n",
    "# Initialize or load existing nfts_json\n",
    "try:\n",
    "    with open(nfts_output_file, 'r') as f:\n",
    "        nfts_json = json.load(f)\n",
    "except FileNotFoundError:\n",
    "    nfts_json = []\n",
    "\n",
    "# Initialize or load existing raw responses\n",
    "try:\n",
    "    with open(raw_output_file, 'r') as f:\n",
    "        raw_responses = json.load(f)\n",
    "except FileNotFoundError:\n",
    "    raw_responses = []\n",
    "\n",
    "\n",
    "# Get first page of NFTs\n",
    "nfts_dic = get_nfts_by_collection(collection_slug)\n",
    "nfts_json += nfts_dic['nfts']  # Append to existing data\n",
    "next_string = nfts_dic['next']\n",
    "\n",
    "# Add the raw response to our list of responses\n",
    "raw_responses.append(nfts_dic)\n",
    "\n",
    "# Save first page immediately - both formats\n",
    "with open(nfts_output_file, 'w') as f:\n",
    "    json.dump(nfts_json, f, indent=4)\n",
    "    \n",
    "with open(raw_output_file, 'w') as f:\n",
    "    json.dump(nfts_dic, f, indent=4)\n",
    "\n",
    "\n",
    "# Get remaining pages\n",
    "while next_string:\n",
    "    nfts_dic = get_nfts_by_collection(collection_slug, next_string=next_string)\n",
    "    nfts_json += nfts_dic['nfts']  # Append new NFTs\n",
    "    raw_responses.append(nfts_dic)  # Append new raw response\n",
    "    \n",
    "    # Save both updated files\n",
    "    with open(nfts_output_file, 'w') as f:\n",
    "        json.dump(nfts_json, f, indent=4)\n",
    "    \n",
    "    with open(raw_output_file, 'w') as f:\n",
    "        json.dump(raw_responses, f, indent=4)\n",
    "    if 'next' in nfts_dic.keys():\n",
    "        next_string = nfts_dic['next']\n",
    "    else:\n",
    "        next_string = None"
   ]
  }
 ],
 "metadata": {
  "kernelspec": {
   "display_name": "llmtool",
   "language": "python",
   "name": "python3"
  },
  "language_info": {
   "codemirror_mode": {
    "name": "ipython",
    "version": 3
   },
   "file_extension": ".py",
   "mimetype": "text/x-python",
   "name": "python",
   "nbconvert_exporter": "python",
   "pygments_lexer": "ipython3",
   "version": "3.8.19"
  }
 },
 "nbformat": 4,
 "nbformat_minor": 2
}
