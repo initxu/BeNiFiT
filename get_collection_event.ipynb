{
 "cells": [
  {
   "cell_type": "code",
   "execution_count": null,
   "metadata": {},
   "outputs": [],
   "source": [
    "import json\n",
    "import requests\n",
    "import time\n",
    "import os\n",
    "import logging\n",
    "from datetime import datetime"
   ]
  },
  {
   "cell_type": "code",
   "execution_count": null,
   "metadata": {},
   "outputs": [],
   "source": [
    "OPENSEA_API_BASE = \"https://api.opensea.io/api/v2\"\n",
    "OPENSEA_API_KEY = \"\" \n",
    "OPENSEA_API_BASE_V1 = \"https://api.opensea.io/api/v1\" \n",
    "collection_slug=\"doodles-official\" # [pudgypenguins, chimpersnft, doodles-official]\n",
    "chain=\"ethereum\""
   ]
  },
  {
   "cell_type": "code",
   "execution_count": null,
   "metadata": {},
   "outputs": [],
   "source": [
    "\n",
    "get_collection_event_url = \"https://api.opensea.io/api/v2/events/collection/{collection_slug}/?event_type=sale&limit=50&next={next_string}\""
   ]
  },
  {
   "cell_type": "code",
   "execution_count": null,
   "metadata": {},
   "outputs": [],
   "source": [
    "def make_api_request(url, headers=None, params=None):\n",
    "    \"\"\"Make API request with basic rate limiting\"\"\"\n",
    "    max_retries = 3\n",
    "    retry_count = 0\n",
    "    \n",
    "    if headers is None:\n",
    "        headers = {\n",
    "            \"Accept\": \"application/json\",\n",
    "            \"X-API-KEY\": OPENSEA_API_KEY\n",
    "        }\n",
    "    while True:\n",
    "        try:\n",
    "            response = requests.get(url, headers=headers, params=params)\n",
    "            \n",
    "            # Handle rate limiting\n",
    "            if response.status_code == 429:\n",
    "                print(\"Rate limited, waiting 1 second...\")\n",
    "                time.sleep(1)\n",
    "                return make_api_request(url, headers, params)\n",
    "            \n",
    "            # Raise exception for other errors\n",
    "            response.raise_for_status()\n",
    "            retry_count = 0\n",
    "            return response.json()\n",
    "        except Exception as e:\n",
    "            print(f\"Error making request to {url}: {e}\")\n",
    "            retry_count += 1\n",
    "            if retry_count >= max_retries:\n",
    "                print(f\"Max retries reached\")\n",
    "                return None\n",
    "            time.sleep(2 ** retry_count)  # Exponential backoff\n"
   ]
  },
  {
   "cell_type": "code",
   "execution_count": null,
   "metadata": {},
   "outputs": [],
   "source": [
    "def get_nfts_event(collection_slug,next_string=\"\"):\n",
    "    url = get_collection_event_url.format(collection_slug=collection_slug,next_string=next_string)\n",
    "    return make_api_request(url)"
   ]
  },
  {
   "cell_type": "code",
   "execution_count": null,
   "metadata": {},
   "outputs": [],
   "source": [
    "\n",
    "def requset_log(log_dir):\n",
    "    logging.basicConfig(\n",
    "        level=logging.INFO,\n",
    "        format='%(asctime)s - %(levelname)s - %(message)s',\n",
    "        handlers=[\n",
    "            logging.FileHandler(f\"{log_dir}nft_events_{datetime.now().strftime('%Y%m%d_%H%M%S')}.log\"),\n",
    "            logging.StreamHandler()  # Also prints to console\n",
    "        ]\n",
    "    )"
   ]
  },
  {
   "cell_type": "code",
   "execution_count": null,
   "metadata": {},
   "outputs": [],
   "source": [
    "nfts_event_output_dir = f\"./data/{collection_slug}/collection_sale_events/\"\n",
    "os.makedirs(nfts_event_output_dir, exist_ok=True)\n",
    "\n",
    "# Initialize variables\n",
    "all_events = []\n",
    "all_next_strings = []\n",
    "next_string = \"\"\n",
    "page_counter = 0\n",
    "save_interval = 1  # Save every 10 pages\n",
    "file_counter = 1  # For sequential file naming\n",
    "requset_log(nfts_event_output_dir)\n",
    "\n",
    "while True:\n",
    "    try:\n",
    "        response = get_nfts_event(collection_slug=collection_slug, next_string=next_string)\n",
    "        \n",
    "        # Add new events to our collection\n",
    "        if 'asset_events' in response:\n",
    "            all_events.extend(response['asset_events'])\n",
    "            all_next_strings.append(response['next'])\n",
    "            page_counter += 1\n",
    "            \n",
    "            # Save every 10 pages or when done\n",
    "            if page_counter % save_interval == 0 or ('next' not in response or not response['next']):\n",
    "                timestamp = datetime.now().strftime(\"%Y%m%d_%H%M%S\")\n",
    "                output_filename = f\"events_part{file_counter}.json\"\n",
    "                output_path = os.path.join(nfts_event_output_dir, output_filename)\n",
    "                \n",
    "                with open(output_path, 'w') as outfile:\n",
    "                    json.dump({\n",
    "                        \"metadata\": {\n",
    "                            \"collection\": collection_slug,\n",
    "                            \"pages_fetched\": page_counter,\n",
    "                            \"this_next_string\": next_string,\n",
    "                            \"next_string\": response['next'],\n",
    "                            \"save_time\": timestamp\n",
    "                        },\n",
    "                        \"events\": all_events,\n",
    "                        \"next_strings\": all_next_strings\n",
    "                    }, outfile, indent=2)\n",
    "                \n",
    "                logging.info(f\"Saved {len(all_events)} events to {output_filename} (pages {page_counter - save_interval + 1}-{page_counter})\")\n",
    "                file_counter += 1\n",
    "                all_events = []  # Reset for next batch\n",
    "                all_next_strings = []  # Reset for next batch\n",
    "        \n",
    "        # Check for more pages\n",
    "        if 'next' in response and response['next']:\n",
    "            next_string = response['next']\n",
    "            time.sleep(1)  # Rate limiting\n",
    "        else:\n",
    "            break\n",
    "            \n",
    "    except Exception as e:\n",
    "        print(f\"Error on page {page_counter}: {str(e)}\")\n",
    "        time.sleep(5)  # Wait before retrying\n",
    "        continue\n",
    "\n",
    "logging.info(f\"Completed! Fetched {page_counter} pages total.\")"
   ]
  }
 ],
 "metadata": {
  "kernelspec": {
   "display_name": "llmtool",
   "language": "python",
   "name": "python3"
  },
  "language_info": {
   "codemirror_mode": {
    "name": "ipython",
    "version": 3
   },
   "file_extension": ".py",
   "mimetype": "text/x-python",
   "name": "python",
   "nbconvert_exporter": "python",
   "pygments_lexer": "ipython3",
   "version": "3.8.19"
  }
 },
 "nbformat": 4,
 "nbformat_minor": 2
}
