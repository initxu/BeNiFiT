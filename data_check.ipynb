{
 "cells": [
  {
   "cell_type": "code",
   "execution_count": 7,
   "metadata": {},
   "outputs": [],
   "source": [
    "import os\n",
    "import json\n",
    "import re\n",
    "import requests\n",
    "import time\n",
    "from email.mime import image"
   ]
  },
  {
   "cell_type": "markdown",
   "metadata": {},
   "source": [
    "## Check Images"
   ]
  },
  {
   "cell_type": "code",
   "execution_count": 34,
   "metadata": {},
   "outputs": [
    {
     "name": "stdout",
     "output_type": "stream",
     "text": [
      "5555\n",
      "Total NFTs expected: 5556\n",
      "Total NFTs found: 5555\n",
      "Missing NFTs count: 1\n",
      "\n",
      "First 50 missing numbers:\n",
      "[0]\n"
     ]
    }
   ],
   "source": [
    "# check images\n",
    "collection_slug=\"chimpersnft\"\n",
    "\n",
    "indentifier_max=5555\n",
    "data_path=f'./data/{collection_slug}/images'\n",
    "\n",
    "data_ls=os.listdir(data_path)\n",
    "print(len(data_ls))\n",
    "\n",
    "\n",
    "extracted_numbers = []\n",
    "for filename in data_ls:\n",
    "    # Find all numbers in the filename using regex\n",
    "    numbers = re.findall(r'\\d+', filename)\n",
    "    if numbers:\n",
    "        extracted_numbers.append(int(numbers[0]))  # Convert to integer\n",
    "\n",
    "# Create a set of all possible numbers\n",
    "all_numbers = set(range(indentifier_max+1))\n",
    "\n",
    "# Create a set of numbers we have\n",
    "existing_numbers = set(extracted_numbers)\n",
    "\n",
    "# Find missing numbers\n",
    "missing_numbers = sorted(all_numbers - existing_numbers)\n",
    "\n",
    "# Print results\n",
    "print(f\"Total NFTs expected: {len(all_numbers)}\")\n",
    "print(f\"Total NFTs found: {len(existing_numbers)}\")\n",
    "print(f\"Missing NFTs count: {len(missing_numbers)}\")\n",
    "print(\"\\nFirst 50 missing numbers:\" if missing_numbers else \"No missing numbers\")\n",
    "print(missing_numbers[:50])"
   ]
  },
  {
   "cell_type": "code",
   "execution_count": null,
   "metadata": {},
   "outputs": [
    {
     "name": "stdout",
     "output_type": "stream",
     "text": [
      "Downloaded image for NFT 1603\n"
     ]
    }
   ],
   "source": [
    "\n",
    "nfts_by_collections_file = f\"./data/{collection_slug}/nfts_by_collection_data_sorted.json\"\n",
    "nfts_image_output_dir= f\"./data/{collection_slug}/images/\"\n",
    "\n",
    "with open(nfts_by_collections_file, 'r') as f:\n",
    "    nfts_by_collections_json = json.load(f)\n",
    "    for nft in nfts_by_collections_json:\n",
    "        identifier= nft['identifier']\n",
    "        if int(identifier) not in missing_numbers:\n",
    "            continue\n",
    "        image_name= f'{collection_slug}_{identifier}' + \".jpg\"\n",
    "        image_url = nft['image_url']\n",
    "        try:\n",
    "            # Get the image data\n",
    "            response = requests.get(image_url, stream=True, timeout=10)\n",
    "            response.raise_for_status()  # Raise an error for bad status codes\n",
    "            \n",
    "            # Save the image\n",
    "            image_path = os.path.join(nfts_image_output_dir, image_name)\n",
    "            with open(image_path, 'wb') as img_file:\n",
    "                for chunk in response.iter_content(1024):\n",
    "                    img_file.write(chunk)\n",
    "            \n",
    "            print(f\"Downloaded image for NFT {identifier}\")\n",
    "            \n",
    "        except requests.exceptions.RequestException as e:\n",
    "            print(f\"Failed to download image for NFT {identifier}: {e}\")\n",
    "        except Exception as e:\n",
    "            print(f\"Error processing NFT {identifier}: {e}\")"
   ]
  },
  {
   "cell_type": "markdown",
   "metadata": {},
   "source": [
    "## Check Sale Events (by nfts)"
   ]
  },
  {
   "cell_type": "code",
   "execution_count": 35,
   "metadata": {},
   "outputs": [
    {
     "name": "stdout",
     "output_type": "stream",
     "text": [
      "5555\n",
      "Total NFTs expected: 5556\n",
      "Total NFTs found: 5555\n",
      "Missing NFTs count: 1\n",
      "\n",
      "First 50 missing numbers:\n",
      "[0]\n"
     ]
    }
   ],
   "source": [
    "collection_slug=\"chimpersnft\"\n",
    "indentifier_max=5555\n",
    "data_path=f'./data/{collection_slug}/sale_events'\n",
    "# only count *.json \n",
    "data_ls=os.listdir(data_path)\n",
    "data_ls=[fn for fn in data_ls if fn.endswith('.json')]\n",
    "print(len(data_ls))\n",
    "\n",
    "extracted_numbers = []\n",
    "for filename in data_ls:\n",
    "    # Find all numbers in the filename using regex\n",
    "    numbers = re.findall(r'\\d+', filename)\n",
    "    if numbers:\n",
    "        extracted_numbers.append(int(numbers[0]))  # Convert to integer\n",
    "\n",
    "# Create a set of all possible numbers\n",
    "all_numbers = set(range(indentifier_max+1))\n",
    "\n",
    "# Create a set of numbers we have\n",
    "existing_numbers = set(extracted_numbers)\n",
    "\n",
    "# Find missing numbers\n",
    "missing_numbers = sorted(all_numbers - existing_numbers)\n",
    "\n",
    "# Print results\n",
    "print(f\"Total NFTs expected: {len(all_numbers)}\")\n",
    "print(f\"Total NFTs found: {len(existing_numbers)}\")\n",
    "print(f\"Missing NFTs count: {len(missing_numbers)}\")\n",
    "print(\"\\nFirst 50 missing numbers:\" if missing_numbers else \"No missing numbers\")\n",
    "print(missing_numbers[:50])"
   ]
  },
  {
   "cell_type": "markdown",
   "metadata": {},
   "source": [
    "## Check Sale Events (by collection)"
   ]
  },
  {
   "cell_type": "code",
   "execution_count": 39,
   "metadata": {},
   "outputs": [
    {
     "name": "stdout",
     "output_type": "stream",
     "text": [
      "89528\n"
     ]
    }
   ],
   "source": [
    "collection_slug=\"pudgypenguins\"\n",
    "indentifier_max=5555\n",
    "data_path=f'./data/{collection_slug}/sale_events/'\n",
    "\n",
    "# only count *.json \n",
    "data_ls=os.listdir(data_path)\n",
    "data_ls=[fn for fn in data_ls if fn.endswith('.json')]\n",
    "\n",
    "\n",
    "collection_event_number=0\n",
    "for item in data_ls:\n",
    "    with open(data_path+item, 'r') as f:\n",
    "        data = json.load(f)\n",
    "        nft_event= data['metadata']['total_events']\n",
    "    collection_event_number+=nft_event\n",
    "print(collection_event_number)"
   ]
  },
  {
   "cell_type": "code",
   "execution_count": 37,
   "metadata": {},
   "outputs": [
    {
     "name": "stdout",
     "output_type": "stream",
     "text": [
      "21003\n"
     ]
    }
   ],
   "source": [
    "collection_slug=\"chimpersnft\"\n",
    "indentifier_max=5555\n",
    "collection_data_path=f'./data/{collection_slug}/collection_sale_events/'\n",
    "\n",
    "# only count *.json \n",
    "data_ls=os.listdir(collection_data_path)\n",
    "data_ls=[fn for fn in data_ls if fn.endswith('.json')]\n",
    "\n",
    "\n",
    "collection_event_number=0\n",
    "for item in data_ls:\n",
    "    with open(collection_data_path+item, 'r') as f:\n",
    "        collection_data = json.load(f)\n",
    "        collection_nft_event= len(collection_data['events'])\n",
    "    collection_event_number+=collection_nft_event\n",
    "print(collection_event_number)"
   ]
  }
 ],
 "metadata": {
  "kernelspec": {
   "display_name": "llmtool",
   "language": "python",
   "name": "python3"
  },
  "language_info": {
   "codemirror_mode": {
    "name": "ipython",
    "version": 3
   },
   "file_extension": ".py",
   "mimetype": "text/x-python",
   "name": "python",
   "nbconvert_exporter": "python",
   "pygments_lexer": "ipython3",
   "version": "3.8.19"
  }
 },
 "nbformat": 4,
 "nbformat_minor": 2
}
